{
 "cells": [
  {
   "cell_type": "code",
   "execution_count": 35,
   "id": "1bf16d72",
   "metadata": {},
   "outputs": [],
   "source": [
    "import pandas as pd\n",
    "from datetime import date, timedelta"
   ]
  },
  {
   "cell_type": "code",
   "execution_count": 64,
   "id": "32170007",
   "metadata": {},
   "outputs": [],
   "source": [
    "reviews_df = pd.read_csv('../../raw_data/reviews_raw.csv')"
   ]
  },
  {
   "cell_type": "code",
   "execution_count": 65,
   "id": "b0f7c372",
   "metadata": {},
   "outputs": [],
   "source": [
    "reviews_df['num_periods'] = reviews_df['date'].str.extract('(\\d+)')\n",
    "reviews_df['num_periods'] = reviews_df['num_periods'].fillna(1)\n",
    "reviews_df['num_periods'] = reviews_df.num_periods.astype(int)\n",
    "reviews_df['period_type'] = reviews_df['date'].str.extract('(minute|hour|day|week|month|year)')"
   ]
  },
  {
   "cell_type": "code",
   "execution_count": 66,
   "id": "1ff4f1a9",
   "metadata": {},
   "outputs": [],
   "source": [
    "today = date.today()"
   ]
  },
  {
   "cell_type": "code",
   "execution_count": 67,
   "id": "d256de94",
   "metadata": {},
   "outputs": [],
   "source": [
    "year_filter = reviews_df['period_type'] == 'year'\n",
    "reviews_df.loc[year_filter, 'year'] = today.year - reviews_df.loc[year_filter]['num_periods']\n",
    "reviews_df.loc[~year_filter, 'year'] = today.year\n",
    "reviews_df['year'] = reviews_df.year.astype(int)"
   ]
  },
  {
   "cell_type": "code",
   "execution_count": 73,
   "id": "55b3951f",
   "metadata": {},
   "outputs": [],
   "source": [
    "reviews_df = reviews_df.drop(columns=['period_type', 'num_periods'])"
   ]
  },
  {
   "cell_type": "code",
   "execution_count": 75,
   "id": "d3fe796b",
   "metadata": {},
   "outputs": [],
   "source": [
    "reviews_df.to_csv('../../processed_data/reviews.csv', index=False)"
   ]
  },
  {
   "cell_type": "code",
   "execution_count": null,
   "id": "200fa132",
   "metadata": {},
   "outputs": [],
   "source": []
  }
 ],
 "metadata": {
  "kernelspec": {
   "display_name": "Python [conda env:health-inspections]",
   "language": "python",
   "name": "conda-env-health-inspections-py"
  },
  "language_info": {
   "codemirror_mode": {
    "name": "ipython",
    "version": 3
   },
   "file_extension": ".py",
   "mimetype": "text/x-python",
   "name": "python",
   "nbconvert_exporter": "python",
   "pygments_lexer": "ipython3",
   "version": "3.10.8"
  }
 },
 "nbformat": 4,
 "nbformat_minor": 5
}
